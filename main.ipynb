{
 "cells": [
  {
   "cell_type": "code",
   "execution_count": null,
   "id": "d96a7bda-1bea-4ef7-92d5-3fc539f8ae75",
   "metadata": {},
   "outputs": [],
   "source": []
  }
 ],
 "metadata": {
  "kernelspec": {
   "display_name": "gans",
   "language": "python",
   "name": "python3"
  },
  "language_info": {
   "codemirror_mode": {
    "name": "ipython",
    "version": 3
   },
   "file_extension": ".py",
   "mimetype": "text/x-python",
   "name": "python",
   "nbconvert_exporter": "python",
   "pygments_lexer": "ipython3",
   "version": "3.10.8 | packaged by conda-forge | (main, Nov 24 2022, 14:07:00) [MSC v.1916 64 bit (AMD64)]"
  },
  "vscode": {
   "interpreter": {
    "hash": "320d45749f0dead76c1e6ac47fa6208937394493c5795efcb06c324216c8452d"
   }
  }
 },
 "nbformat": 4,
 "nbformat_minor": 5
}
